{
 "cells": [
  {
   "cell_type": "markdown",
   "id": "a1eddf57",
   "metadata": {},
   "source": [
    "# Importing the libraries"
   ]
  },
  {
   "cell_type": "code",
   "execution_count": 1,
   "id": "92b4acd2",
   "metadata": {},
   "outputs": [],
   "source": [
    "import pandas as pd\n",
    "import nltk\n",
    "import re"
   ]
  },
  {
   "cell_type": "markdown",
   "id": "c35734a2",
   "metadata": {},
   "source": [
    "# Loading the training dataset"
   ]
  },
  {
   "cell_type": "code",
   "execution_count": 2,
   "id": "77dd894a",
   "metadata": {},
   "outputs": [
    {
     "data": {
      "text/html": [
       "<div>\n",
       "<style scoped>\n",
       "    .dataframe tbody tr th:only-of-type {\n",
       "        vertical-align: middle;\n",
       "    }\n",
       "\n",
       "    .dataframe tbody tr th {\n",
       "        vertical-align: top;\n",
       "    }\n",
       "\n",
       "    .dataframe thead th {\n",
       "        text-align: right;\n",
       "    }\n",
       "</style>\n",
       "<table border=\"1\" class=\"dataframe\">\n",
       "  <thead>\n",
       "    <tr style=\"text-align: right;\">\n",
       "      <th></th>\n",
       "      <th>category</th>\n",
       "      <th>text</th>\n",
       "    </tr>\n",
       "  </thead>\n",
       "  <tbody>\n",
       "    <tr>\n",
       "      <th>0</th>\n",
       "      <td>earn</td>\n",
       "      <td>champion products ch approves stock split cham...</td>\n",
       "    </tr>\n",
       "    <tr>\n",
       "      <th>1</th>\n",
       "      <td>acq</td>\n",
       "      <td>computer terminal systems cpml completes sale ...</td>\n",
       "    </tr>\n",
       "    <tr>\n",
       "      <th>2</th>\n",
       "      <td>earn</td>\n",
       "      <td>cobanco inc cbco year net shr cts vs dlrs net ...</td>\n",
       "    </tr>\n",
       "    <tr>\n",
       "      <th>3</th>\n",
       "      <td>earn</td>\n",
       "      <td>am international inc am nd qtr jan oper shr lo...</td>\n",
       "    </tr>\n",
       "    <tr>\n",
       "      <th>4</th>\n",
       "      <td>earn</td>\n",
       "      <td>brown forman inc bfd th qtr net shr one dlr vs...</td>\n",
       "    </tr>\n",
       "  </tbody>\n",
       "</table>\n",
       "</div>"
      ],
      "text/plain": [
       "  category                                               text\n",
       "0     earn  champion products ch approves stock split cham...\n",
       "1      acq  computer terminal systems cpml completes sale ...\n",
       "2     earn  cobanco inc cbco year net shr cts vs dlrs net ...\n",
       "3     earn  am international inc am nd qtr jan oper shr lo...\n",
       "4     earn  brown forman inc bfd th qtr net shr one dlr vs..."
      ]
     },
     "execution_count": 2,
     "metadata": {},
     "output_type": "execute_result"
    }
   ],
   "source": [
    "df_train = pd.read_csv('./datasets/r8-train-all-terms.txt', header=None, sep='\\t', names=['category', 'text'])\n",
    "df_train = df_train.dropna()\n",
    "df_train.head()"
   ]
  },
  {
   "cell_type": "code",
   "execution_count": 3,
   "id": "5fb1c28d",
   "metadata": {},
   "outputs": [
    {
     "data": {
      "text/plain": [
       "(                                                   text\n",
       " 0     champion products ch approves stock split cham...\n",
       " 1     computer terminal systems cpml completes sale ...\n",
       " 2     cobanco inc cbco year net shr cts vs dlrs net ...\n",
       " 3     am international inc am nd qtr jan oper shr lo...\n",
       " 4     brown forman inc bfd th qtr net shr one dlr vs...\n",
       " ...                                                 ...\n",
       " 5480  kelly oil and gas partners kly year dec shr ct...\n",
       " 5481  japan seeks to strengthen paris currency accor...\n",
       " 5482  tcw convertible securities cvt sets dividend t...\n",
       " 5483  south korean won fixed at month high the bank ...\n",
       " 5484  australian unions launch new south wales strik...\n",
       " \n",
       " [5485 rows x 1 columns],\n",
       " 0           earn\n",
       " 1            acq\n",
       " 2           earn\n",
       " 3           earn\n",
       " 4           earn\n",
       "           ...   \n",
       " 5480        earn\n",
       " 5481    money-fx\n",
       " 5482        earn\n",
       " 5483    money-fx\n",
       " 5484        ship\n",
       " Name: category, Length: 5485, dtype: object)"
      ]
     },
     "execution_count": 3,
     "metadata": {},
     "output_type": "execute_result"
    }
   ],
   "source": [
    "text_train = df_train.drop(['category'],axis=1)\n",
    "y_train = df_train['category']\n",
    "\n",
    "text_train, y_train"
   ]
  },
  {
   "cell_type": "code",
   "execution_count": 4,
   "id": "a453c297",
   "metadata": {},
   "outputs": [
    {
     "data": {
      "text/plain": [
       "earn        2840\n",
       "acq         1596\n",
       "crude        253\n",
       "trade        251\n",
       "money-fx     206\n",
       "interest     190\n",
       "ship         108\n",
       "grain         41\n",
       "Name: category, dtype: int64"
      ]
     },
     "execution_count": 4,
     "metadata": {},
     "output_type": "execute_result"
    }
   ],
   "source": [
    "y_train.value_counts()"
   ]
  },
  {
   "cell_type": "markdown",
   "id": "812d1f01",
   "metadata": {},
   "source": [
    "# Loading the testing dataset"
   ]
  },
  {
   "cell_type": "code",
   "execution_count": 6,
   "id": "378e411e",
   "metadata": {},
   "outputs": [
    {
     "data": {
      "text/plain": [
       "earn        1083\n",
       "acq          696\n",
       "crude        121\n",
       "money-fx      87\n",
       "interest      81\n",
       "trade         75\n",
       "ship          36\n",
       "grain         10\n",
       "Name: category, dtype: int64"
      ]
     },
     "execution_count": 6,
     "metadata": {},
     "output_type": "execute_result"
    }
   ],
   "source": [
    "df_test = pd.read_csv('datasets/r8-test-all-terms.txt',header = None, sep='\\t', names = ['category', 'text'])\n",
    "text_test = df_test.drop(['category'],axis=1)\n",
    "df_test = df_test.dropna()\n",
    "y_test = df_test['category']\n",
    "\n",
    "y_test.value_counts()"
   ]
  },
  {
   "cell_type": "markdown",
   "id": "8e0a524b",
   "metadata": {},
   "source": [
    "# Pre-processing"
   ]
  },
  {
   "cell_type": "code",
   "execution_count": 8,
   "id": "e6f48b58",
   "metadata": {},
   "outputs": [],
   "source": [
    "# Tokenizing, stop-words removal and lemmatization\n",
    "from nltk.stem import WordNetLemmatizer\n",
    "\n",
    "def text_preprocess(articles: pd.DataFrame) -> list:\n",
    "    lemmatizer = WordNetLemmatizer()\n",
    "    corpus=[]\n",
    "    for i in range(0,len(articles)):\n",
    "        review = re.sub('[^a-zA-Z]', ' ', articles['text'][i]) #replacing all charecters apart from A-Z,a-z with ' '\n",
    "        review = review.lower()\n",
    "        review = nltk.word_tokenize(review)\n",
    "\n",
    "        review = [lemmatizer.lemmatize(word) for word in review if not word in nltk.corpus.stopwords.words('english')]\n",
    "        review = ' '.join(review)\n",
    "        corpus.append(review)\n",
    "    return corpus"
   ]
  },
  {
   "cell_type": "code",
   "execution_count": 9,
   "id": "b064fba3",
   "metadata": {
    "collapsed": true
   },
   "outputs": [
    {
     "data": {
      "text/html": [
       "<div>\n",
       "<style scoped>\n",
       "    .dataframe tbody tr th:only-of-type {\n",
       "        vertical-align: middle;\n",
       "    }\n",
       "\n",
       "    .dataframe tbody tr th {\n",
       "        vertical-align: top;\n",
       "    }\n",
       "\n",
       "    .dataframe thead th {\n",
       "        text-align: right;\n",
       "    }\n",
       "</style>\n",
       "<table border=\"1\" class=\"dataframe\">\n",
       "  <thead>\n",
       "    <tr style=\"text-align: right;\">\n",
       "      <th></th>\n",
       "      <th>index</th>\n",
       "      <th>text</th>\n",
       "    </tr>\n",
       "  </thead>\n",
       "  <tbody>\n",
       "    <tr>\n",
       "      <th>0</th>\n",
       "      <td>0</td>\n",
       "      <td>champion products ch approves stock split cham...</td>\n",
       "    </tr>\n",
       "    <tr>\n",
       "      <th>1</th>\n",
       "      <td>1</td>\n",
       "      <td>computer terminal systems cpml completes sale ...</td>\n",
       "    </tr>\n",
       "    <tr>\n",
       "      <th>2</th>\n",
       "      <td>2</td>\n",
       "      <td>cobanco inc cbco year net shr cts vs dlrs net ...</td>\n",
       "    </tr>\n",
       "    <tr>\n",
       "      <th>3</th>\n",
       "      <td>3</td>\n",
       "      <td>am international inc am nd qtr jan oper shr lo...</td>\n",
       "    </tr>\n",
       "    <tr>\n",
       "      <th>4</th>\n",
       "      <td>4</td>\n",
       "      <td>brown forman inc bfd th qtr net shr one dlr vs...</td>\n",
       "    </tr>\n",
       "    <tr>\n",
       "      <th>...</th>\n",
       "      <td>...</td>\n",
       "      <td>...</td>\n",
       "    </tr>\n",
       "    <tr>\n",
       "      <th>5480</th>\n",
       "      <td>5480</td>\n",
       "      <td>kelly oil and gas partners kly year dec shr ct...</td>\n",
       "    </tr>\n",
       "    <tr>\n",
       "      <th>5481</th>\n",
       "      <td>5481</td>\n",
       "      <td>japan seeks to strengthen paris currency accor...</td>\n",
       "    </tr>\n",
       "    <tr>\n",
       "      <th>5482</th>\n",
       "      <td>5482</td>\n",
       "      <td>tcw convertible securities cvt sets dividend t...</td>\n",
       "    </tr>\n",
       "    <tr>\n",
       "      <th>5483</th>\n",
       "      <td>5483</td>\n",
       "      <td>south korean won fixed at month high the bank ...</td>\n",
       "    </tr>\n",
       "    <tr>\n",
       "      <th>5484</th>\n",
       "      <td>5484</td>\n",
       "      <td>australian unions launch new south wales strik...</td>\n",
       "    </tr>\n",
       "  </tbody>\n",
       "</table>\n",
       "<p>5485 rows × 2 columns</p>\n",
       "</div>"
      ],
      "text/plain": [
       "      index                                               text\n",
       "0         0  champion products ch approves stock split cham...\n",
       "1         1  computer terminal systems cpml completes sale ...\n",
       "2         2  cobanco inc cbco year net shr cts vs dlrs net ...\n",
       "3         3  am international inc am nd qtr jan oper shr lo...\n",
       "4         4  brown forman inc bfd th qtr net shr one dlr vs...\n",
       "...     ...                                                ...\n",
       "5480   5480  kelly oil and gas partners kly year dec shr ct...\n",
       "5481   5481  japan seeks to strengthen paris currency accor...\n",
       "5482   5482  tcw convertible securities cvt sets dividend t...\n",
       "5483   5483  south korean won fixed at month high the bank ...\n",
       "5484   5484  australian unions launch new south wales strik...\n",
       "\n",
       "[5485 rows x 2 columns]"
      ]
     },
     "execution_count": 9,
     "metadata": {},
     "output_type": "execute_result"
    }
   ],
   "source": [
    "articles_train = text_train.copy()\n",
    "articles_train.reset_index(inplace=True)\n",
    "articles_train"
   ]
  },
  {
   "cell_type": "code",
   "execution_count": 10,
   "id": "d1ecbaed",
   "metadata": {},
   "outputs": [
    {
     "data": {
      "text/html": [
       "<div>\n",
       "<style scoped>\n",
       "    .dataframe tbody tr th:only-of-type {\n",
       "        vertical-align: middle;\n",
       "    }\n",
       "\n",
       "    .dataframe tbody tr th {\n",
       "        vertical-align: top;\n",
       "    }\n",
       "\n",
       "    .dataframe thead th {\n",
       "        text-align: right;\n",
       "    }\n",
       "</style>\n",
       "<table border=\"1\" class=\"dataframe\">\n",
       "  <thead>\n",
       "    <tr style=\"text-align: right;\">\n",
       "      <th></th>\n",
       "      <th>index</th>\n",
       "      <th>text</th>\n",
       "    </tr>\n",
       "  </thead>\n",
       "  <tbody>\n",
       "    <tr>\n",
       "      <th>0</th>\n",
       "      <td>0</td>\n",
       "      <td>asian exporters fear damage from u s japan rif...</td>\n",
       "    </tr>\n",
       "    <tr>\n",
       "      <th>1</th>\n",
       "      <td>1</td>\n",
       "      <td>china daily says vermin eat pct grain stocks a...</td>\n",
       "    </tr>\n",
       "    <tr>\n",
       "      <th>2</th>\n",
       "      <td>2</td>\n",
       "      <td>australian foreign ship ban ends but nsw ports...</td>\n",
       "    </tr>\n",
       "    <tr>\n",
       "      <th>3</th>\n",
       "      <td>3</td>\n",
       "      <td>sumitomo bank aims at quick recovery from merg...</td>\n",
       "    </tr>\n",
       "    <tr>\n",
       "      <th>4</th>\n",
       "      <td>4</td>\n",
       "      <td>amatil proposes two for five bonus share issue...</td>\n",
       "    </tr>\n",
       "    <tr>\n",
       "      <th>...</th>\n",
       "      <td>...</td>\n",
       "      <td>...</td>\n",
       "    </tr>\n",
       "    <tr>\n",
       "      <th>2184</th>\n",
       "      <td>2184</td>\n",
       "      <td>balladur insists on maintenance of louvre acco...</td>\n",
       "    </tr>\n",
       "    <tr>\n",
       "      <th>2185</th>\n",
       "      <td>2185</td>\n",
       "      <td>philippine trade gap widens in january august ...</td>\n",
       "    </tr>\n",
       "    <tr>\n",
       "      <th>2186</th>\n",
       "      <td>2186</td>\n",
       "      <td>iran soviet union to swap crude refined produc...</td>\n",
       "    </tr>\n",
       "    <tr>\n",
       "      <th>2187</th>\n",
       "      <td>2187</td>\n",
       "      <td>n z s chase corp makes offer for entregrowth c...</td>\n",
       "    </tr>\n",
       "    <tr>\n",
       "      <th>2188</th>\n",
       "      <td>2188</td>\n",
       "      <td>japan india conference cuts gulf war risk char...</td>\n",
       "    </tr>\n",
       "  </tbody>\n",
       "</table>\n",
       "<p>2189 rows × 2 columns</p>\n",
       "</div>"
      ],
      "text/plain": [
       "      index                                               text\n",
       "0         0  asian exporters fear damage from u s japan rif...\n",
       "1         1  china daily says vermin eat pct grain stocks a...\n",
       "2         2  australian foreign ship ban ends but nsw ports...\n",
       "3         3  sumitomo bank aims at quick recovery from merg...\n",
       "4         4  amatil proposes two for five bonus share issue...\n",
       "...     ...                                                ...\n",
       "2184   2184  balladur insists on maintenance of louvre acco...\n",
       "2185   2185  philippine trade gap widens in january august ...\n",
       "2186   2186  iran soviet union to swap crude refined produc...\n",
       "2187   2187  n z s chase corp makes offer for entregrowth c...\n",
       "2188   2188  japan india conference cuts gulf war risk char...\n",
       "\n",
       "[2189 rows x 2 columns]"
      ]
     },
     "execution_count": 10,
     "metadata": {},
     "output_type": "execute_result"
    }
   ],
   "source": [
    "articles_test = text_test.copy()\n",
    "articles_test.reset_index(inplace=True)\n",
    "articles_test"
   ]
  },
  {
   "cell_type": "code",
   "execution_count": 11,
   "id": "f720ddd9",
   "metadata": {},
   "outputs": [
    {
     "data": {
      "text/plain": [
       "'champion product ch approves stock split champion product inc said board director approved two one stock split common share shareholder record april company also said board voted recommend shareholder annual meeting april increase authorized capital stock five mln mln share reuter'"
      ]
     },
     "execution_count": 11,
     "metadata": {},
     "output_type": "execute_result"
    }
   ],
   "source": [
    "X_train = text_preprocess(articles_train)\n",
    "X_train[0]"
   ]
  },
  {
   "cell_type": "code",
   "execution_count": 12,
   "id": "09ab0b07",
   "metadata": {},
   "outputs": [
    {
     "data": {
      "text/plain": [
       "'asian exporter fear damage u japan rift mounting trade friction u japan raised fear among many asia exporting nation row could inflict far reaching economic damage businessmen official said told reuter correspondent asian capital u move japan might boost protectionist sentiment u lead curb american import product exporter said conflict would hurt long run short term tokyo loss might gain u said impose mln dlrs tariff import japanese electronics good april retaliation japan alleged failure stick pact sell semiconductor world market cost unofficial japanese estimate put impact tariff billion dlrs spokesman major electronics firm said would virtually halt export product hit new tax able business said spokesman leading japanese electronics firm matsushita electric industrial co ltd mc tariff remain place length time beyond month mean complete erosion export good subject tariff u said tom murtha stock analyst tokyo office broker james capel co taiwan businessmen official also worried aware seriousness u threat japan serf warning u said senior taiwanese trade official asked named taiwan trade trade surplus billion dlrs last year pct u surplus helped swell taiwan foreign exchange reserve billion dlrs among world largest must quickly open market remove trade barrier cut import tariff allow import u product want defuse problem possible u retaliation said paul sheen chairman textile exporter taiwan safe group senior official south korea trade promotion association said trade dispute u japan might also lead pressure south korea whose chief export similar japan last year south korea trade surplus billion dlrs u billion dlrs malaysia trade officer businessmen said tough curb japan might allow hard hit producer semiconductor third country expand sale u hong kong newspaper alleged japan selling cost semiconductor electronics manufacturer share view businessmen said short term commercial advantage would outweighed u pressure block import short term view said lawrence mill director general federation hong kong industry whole purpose prevent import one day extended source much serious hong kong disadvantage action restraining trade said u last year hong kong biggest export market accounting pct domestically produced export australian government awaiting outcome trade talk u japan interest concern industry minister john button said canberra last friday kind deterioration trade relation two country major trading partner serious matter button said said australia concern centred coal beef australia two largest export japan also significant u export country meanwhile u japanese diplomatic manoeuvre solve trade stand continue japan ruling liberal democratic party yesterday outlined package economic measure boost japanese economy measure proposed include large supplementary budget record public work spending first half financial year also call stepped spending emergency measure stimulate economy despite prime minister yasuhiro nakasone avowed fiscal reform program deputy u trade representative michael smith makoto kuroda japan deputy minister international trade industry miti due meet washington week effort end dispute reuter'"
      ]
     },
     "execution_count": 12,
     "metadata": {},
     "output_type": "execute_result"
    }
   ],
   "source": [
    "X_test = text_preprocess(articles_test)\n",
    "X_test[0]"
   ]
  },
  {
   "cell_type": "markdown",
   "id": "4416b27a",
   "metadata": {},
   "source": [
    "# TW-IDF Model"
   ]
  },
  {
   "cell_type": "code",
   "execution_count": 15,
   "id": "26441504",
   "metadata": {},
   "outputs": [],
   "source": [
    "from sklearn.pipeline import Pipeline\n",
    "from sklearn.pipeline import FeatureUnion\n",
    "\n",
    "from sklearn.experimental import enable_halving_search_cv\n",
    "from sklearn.model_selection import HalvingGridSearchCV\n",
    "from sklearn.model_selection import HalvingRandomSearchCV\n",
    "from pprint import pprint\n",
    "\n",
    "from gowpy.feature_extraction.gow import TwidfVectorizer\n",
    "from sklearn.svm import SVC\n",
    "from sklearn.decomposition import TruncatedSVD\n",
    "\n",
    "from sklearn.metrics import classification_report, accuracy_score, f1_score"
   ]
  },
  {
   "cell_type": "code",
   "execution_count": 16,
   "id": "98a66be9",
   "metadata": {},
   "outputs": [],
   "source": [
    "from sklearn.metrics import matthews_corrcoef, make_scorer\n",
    "scorer_mcc = make_scorer(matthews_corrcoef)"
   ]
  },
  {
   "cell_type": "markdown",
   "id": "05adbf6a",
   "metadata": {},
   "source": [
    "# Hyperparameter tuning and cross-validation score"
   ]
  },
  {
   "cell_type": "code",
   "execution_count": 21,
   "id": "b767f243",
   "metadata": {},
   "outputs": [],
   "source": [
    "# pipeline = Pipeline([\n",
    "#     ('gow', TwidfVectorizer()),\n",
    "#     ('svc', SVC()),\n",
    "# ])\n",
    "\n",
    "parameters = {\n",
    "    'gow__directed' : [True, False],\n",
    "    'gow__window_size' : [2, 4, 8, 16],\n",
    "    'gow__b' : [0.0, 0.003],\n",
    "    'gow__term_weighting' : ['degree', 'pagerank'],\n",
    "    'gow__min_df' : [0, 5, 10],\n",
    "    'gow__max_df' : [0.8, 0.9, 1.0],\n",
    "    'svc__C':[1, 10, 100],\n",
    "    'svc__kernel':['linear', 'rbf'],\n",
    "    'svc__shrinking' : [True, False],\n",
    "    'svc__probability' : [True, False],\n",
    "    'svc__class_weight' : ['balanced'],\n",
    "}"
   ]
  },
  {
   "cell_type": "markdown",
   "id": "c00c7752",
   "metadata": {},
   "source": [
    "# HalvingRandomSearchCV"
   ]
  },
  {
   "cell_type": "code",
   "execution_count": 61,
   "id": "0fe95ac2",
   "metadata": {
    "collapsed": true,
    "deletable": false,
    "editable": false,
    "run_control": {
     "frozen": true
    }
   },
   "outputs": [
    {
     "name": "stdout",
     "output_type": "stream",
     "text": [
      "Performing random search...\n",
      "pipeline: ['gow', 'svc']\n",
      "{'gow__b': [0.0, 0.003],\n",
      " 'gow__directed': [True, False],\n",
      " 'gow__max_df': [0.8, 0.9, 1.0],\n",
      " 'gow__min_df': [0, 5, 10],\n",
      " 'gow__term_weighting': ['degree', 'pagerank'],\n",
      " 'gow__window_size': [2, 3, 4, 6, 8],\n",
      " 'svc__C': [0.1, 1, 10, 100, 1000],\n",
      " 'svc__class_weight': [None, 'balanced'],\n",
      " 'svc__degree': [0, 1, 2, 3, 4, 5],\n",
      " 'svc__gamma': ['scale', 'auto'],\n",
      " 'svc__kernel': ['linear', 'rbf', 'poly', 'sigmoid'],\n",
      " 'svc__probability': [True, False],\n",
      " 'svc__shrinking': [True, False]}\n",
      "n_iterations: 4\n",
      "n_required_iterations: 4\n",
      "n_possible_iterations: 4\n",
      "min_resources_: 160\n",
      "max_resources_: 5485\n",
      "aggressive_elimination: False\n",
      "factor: 3\n",
      "----------\n",
      "iter: 0\n",
      "n_candidates: 34\n",
      "n_resources: 160\n",
      "Fitting 10 folds for each of 34 candidates, totalling 340 fits\n",
      "----------\n",
      "iter: 1\n",
      "n_candidates: 12\n",
      "n_resources: 480\n",
      "Fitting 10 folds for each of 12 candidates, totalling 120 fits\n",
      "----------\n",
      "iter: 2\n",
      "n_candidates: 4\n",
      "n_resources: 1440\n",
      "Fitting 10 folds for each of 4 candidates, totalling 40 fits\n",
      "----------\n",
      "iter: 3\n",
      "n_candidates: 2\n",
      "n_resources: 4320\n",
      "Fitting 10 folds for each of 2 candidates, totalling 20 fits\n",
      "Best score: 0.944\n",
      "Best parameters set:\n",
      "\tgow__b: 0.003\n",
      "\tgow__directed: False\n",
      "\tgow__max_df: 1.0\n",
      "\tgow__min_df: 5\n",
      "\tgow__term_weighting: 'pagerank'\n",
      "\tgow__window_size: 6\n",
      "\tsvc__C: 100\n",
      "\tsvc__class_weight: 'balanced'\n",
      "\tsvc__degree: 1\n",
      "\tsvc__gamma: 'scale'\n",
      "\tsvc__kernel: 'linear'\n",
      "\tsvc__probability: True\n",
      "\tsvc__shrinking: False\n"
     ]
    }
   ],
   "source": [
    "random_search = HalvingRandomSearchCV(pipeline, \n",
    "                           parameters, \n",
    "                           cv=10,\n",
    "                           scoring=scorer_mcc,\n",
    "                           n_jobs=-1, \n",
    "                           verbose=10,\n",
    "                           min_resources='smallest',\n",
    "                           factor=3)\n",
    "\n",
    "print(\"Performing random search...\")\n",
    "print(\"pipeline:\", [name for name, _ in pipeline.steps])\n",
    "pprint(parameters)\n",
    "\n",
    "random_search.fit(X_train, y_train)\n",
    "\n",
    "print(\"Best score: %0.3f\" % random_search.best_score_)\n",
    "print(\"Best parameters set:\")\n",
    "best_parameters = random_search.best_estimator_.get_params()\n",
    "for param_name in sorted(parameters.keys()):\n",
    "    print(\"\\t%s: %r\" % (param_name, best_parameters[param_name]))"
   ]
  },
  {
   "cell_type": "markdown",
   "id": "4ff4c1ff",
   "metadata": {},
   "source": [
    "# HalvingGridSearchCV"
   ]
  },
  {
   "cell_type": "code",
   "execution_count": 71,
   "id": "8fca8273",
   "metadata": {
    "collapsed": true,
    "deletable": false,
    "editable": false,
    "run_control": {
     "frozen": true
    }
   },
   "outputs": [
    {
     "name": "stdout",
     "output_type": "stream",
     "text": [
      "Performing grid search...\n",
      "pipeline: ['gow', 'svc']\n",
      "{'gow__b': [0.0, 0.003],\n",
      " 'gow__directed': [True, False],\n",
      " 'gow__max_df': [0.8, 0.9, 1.0],\n",
      " 'gow__min_df': [0, 5, 10],\n",
      " 'gow__term_weighting': ['degree', 'pagerank'],\n",
      " 'gow__window_size': [2, 3, 4, 6],\n",
      " 'svc__C': [1, 10, 100],\n",
      " 'svc__class_weight': ['balanced'],\n",
      " 'svc__kernel': ['linear', 'rbf'],\n",
      " 'svc__probability': [True, False],\n",
      " 'svc__shrinking': [True, False]}\n",
      "n_iterations: 5\n",
      "n_required_iterations: 9\n",
      "n_possible_iterations: 5\n",
      "min_resources_: 48\n",
      "max_resources_: 5485\n",
      "aggressive_elimination: False\n",
      "factor: 3\n",
      "----------\n",
      "iter: 0\n",
      "n_candidates: 6912\n",
      "n_resources: 48\n",
      "Fitting 3 folds for each of 6912 candidates, totalling 20736 fits\n",
      "----------\n",
      "iter: 1\n",
      "n_candidates: 2304\n",
      "n_resources: 144\n",
      "Fitting 3 folds for each of 2304 candidates, totalling 6912 fits\n",
      "----------\n",
      "iter: 2\n",
      "n_candidates: 768\n",
      "n_resources: 432\n",
      "Fitting 3 folds for each of 768 candidates, totalling 2304 fits\n",
      "----------\n",
      "iter: 3\n",
      "n_candidates: 256\n",
      "n_resources: 1296\n",
      "Fitting 3 folds for each of 256 candidates, totalling 768 fits\n",
      "----------\n",
      "iter: 4\n",
      "n_candidates: 86\n",
      "n_resources: 3888\n",
      "Fitting 3 folds for each of 86 candidates, totalling 258 fits\n",
      "Best score: 0.939\n",
      "Best parameters set:\n",
      "\tgow__b: 0.003\n",
      "\tgow__directed: False\n",
      "\tgow__max_df: 1.0\n",
      "\tgow__min_df: 5\n",
      "\tgow__term_weighting: 'degree'\n",
      "\tgow__window_size: 4\n",
      "\tsvc__C: 10\n",
      "\tsvc__class_weight: 'balanced'\n",
      "\tsvc__kernel: 'linear'\n",
      "\tsvc__probability: True\n",
      "\tsvc__shrinking: False\n"
     ]
    }
   ],
   "source": [
    "grid_search = HalvingGridSearchCV(pipeline, \n",
    "                           parameters, \n",
    "                           cv=3,\n",
    "                           scoring=scorer_mcc,\n",
    "                           n_jobs=-1, \n",
    "                           verbose=10)\n",
    "\n",
    "print(\"Performing grid search...\")\n",
    "print(\"pipeline:\", [name for name, _ in pipeline.steps])\n",
    "pprint(parameters)\n",
    "\n",
    "grid_search.fit(X_train, y_train)\n",
    "\n",
    "print(\"Best score: %0.3f\" % grid_search.best_score_)\n",
    "print(\"Best parameters set:\")\n",
    "best_parameters = grid_search.best_estimator_.get_params()\n",
    "for param_name in sorted(parameters.keys()):\n",
    "    print(\"\\t%s: %r\" % (param_name, best_parameters[param_name]))"
   ]
  },
  {
   "cell_type": "markdown",
   "id": "f64143c2",
   "metadata": {},
   "source": [
    "# Fitting the TW-IDF model and evaluating on test data"
   ]
  },
  {
   "cell_type": "code",
   "execution_count": 14,
   "id": "b174c055",
   "metadata": {},
   "outputs": [
    {
     "data": {
      "text/plain": [
       "(5485, 4699)"
      ]
     },
     "execution_count": 14,
     "metadata": {},
     "output_type": "execute_result"
    }
   ],
   "source": [
    "model = TwidfVectorizer(b=0.003, directed=False, max_df=1.0, min_df=5, term_weighting='degree', window_size=4)\n",
    "X = model.fit_transform(X_train)\n",
    "X.shape"
   ]
  },
  {
   "cell_type": "markdown",
   "id": "787894eb",
   "metadata": {},
   "source": [
    "# Pipeline with best parameters"
   ]
  },
  {
   "cell_type": "code",
   "execution_count": 22,
   "id": "4e6272a2",
   "metadata": {},
   "outputs": [
    {
     "data": {
      "text/plain": [
       "Pipeline(steps=[('gow',\n",
       "                 TwidfVectorizer(b=0.003, directed=False, min_df=5,\n",
       "                                 tokenizer=<function default_tokenizer at 0x0000020DF2F844C0>)),\n",
       "                ('svd', TruncatedSVD(n_components=1000, random_state=0)),\n",
       "                ('svc',\n",
       "                 SVC(C=10, class_weight='balanced', kernel='linear',\n",
       "                     probability=True, shrinking=False))])"
      ]
     },
     "execution_count": 22,
     "metadata": {},
     "output_type": "execute_result"
    }
   ],
   "source": [
    "# Manually setting best parameters\n",
    "pipeline_gow = Pipeline([\n",
    "    ('gow', TwidfVectorizer(b=0.003, directed=False, max_df=1.0, min_df=5, term_weighting='degree', window_size=4)),\n",
    "    ('svd', TruncatedSVD(n_components=1000, random_state=0)),\n",
    "    ('svc', SVC(C=10, gamma='scale', kernel='linear', class_weight='balanced', probability=True, shrinking=False)),\n",
    "])\n",
    "\n",
    "pipeline_gow.fit(X_train, y_train)"
   ]
  },
  {
   "cell_type": "markdown",
   "id": "496d7203",
   "metadata": {},
   "source": [
    "# Results and Accuracy"
   ]
  },
  {
   "cell_type": "code",
   "execution_count": 19,
   "id": "78f8488b",
   "metadata": {},
   "outputs": [
    {
     "name": "stdout",
     "output_type": "stream",
     "text": [
      "              precision    recall  f1-score   support\n",
      "\n",
      "         acq       0.97      0.98      0.98       696\n",
      "       crude       0.95      0.98      0.96       121\n",
      "        earn       0.99      0.99      0.99      1083\n",
      "       grain       1.00      0.90      0.95        10\n",
      "    interest       0.92      0.86      0.89        81\n",
      "    money-fx       0.88      0.85      0.87        87\n",
      "        ship       0.91      0.83      0.87        36\n",
      "       trade       0.95      0.99      0.97        75\n",
      "\n",
      "    accuracy                           0.98      2189\n",
      "   macro avg       0.95      0.92      0.93      2189\n",
      "weighted avg       0.98      0.98      0.98      2189\n",
      "\n",
      "\n",
      "Accuracy:  0.9757880310644129\n",
      "MCC:  0.9625331611743982\n",
      "f1-micro:  0.9757880310644129\n"
     ]
    }
   ],
   "source": [
    "# Evaluation on test data\n",
    "y_pred = pipeline_gow.predict(X_test)\n",
    "\n",
    "print(classification_report(y_test, y_pred))\n",
    "print('\\nAccuracy: ', accuracy_score(y_test, y_pred))\n",
    "print('MCC: ', matthews_corrcoef(y_test, y_pred))\n",
    "print('f1-micro: ', f1_score(y_test, y_pred, average='micro'))"
   ]
  },
  {
   "cell_type": "markdown",
   "id": "3071d43b",
   "metadata": {},
   "source": [
    "# Testing model with actual articles"
   ]
  },
  {
   "cell_type": "code",
   "execution_count": 25,
   "id": "7f5860b5",
   "metadata": {},
   "outputs": [],
   "source": [
    "from nltk.stem import WordNetLemmatizer\n",
    "\n",
    "def textpreprocess(articles):\n",
    "    lemmatizer = WordNetLemmatizer()\n",
    "    corpus=[]\n",
    "    for i in range(0,len(articles)):\n",
    "        review = re.sub('[^a-zA-Z]', ' ', articles[i]) #replacing all charecters apart from A-Z,a-z with ' '\n",
    "        review = review.lower()\n",
    "        review = nltk.word_tokenize(review)\n",
    "\n",
    "        review = [lemmatizer.lemmatize(word) for word in review if not word in nltk.corpus.stopwords.words('english')]\n",
    "        review = ' '.join(review)\n",
    "        corpus.append(review)\n",
    "    return corpus"
   ]
  },
  {
   "cell_type": "code",
   "execution_count": 29,
   "id": "4a7b26e2",
   "metadata": {
    "collapsed": true
   },
   "outputs": [
    {
     "data": {
      "text/plain": [
       "['virat kohli among big run struggling indian premier league played couple good inning kohli rested india immediate series south africa ireland management hoping player would return fresh break expectation break would former indian captain good team management opted young player ipl fame play india youngster great made mark indian team kohli return hand turn fruitful one',\n",
       " 'many delay spacex dragon spacecraft finally lifted begin journey international space station uncrewed flight known cr carry slew scientific experiment include study immune system aging recovery mapping composition earth dust effect climate community microorganism soil affected microgravity several others taking twitter national aeronautics space administration nasa shared video cr launch like dust wind liftoff confirmed spacex cr dragon spacecraft resupply mission international space station']"
      ]
     },
     "execution_count": 29,
     "metadata": {},
     "output_type": "execute_result"
    }
   ],
   "source": [
    "text=[\"Virat Kohli has not been among big runs for a while now. After a struggling Indian Premier League, where he played only a couple of good innings, Kohli was rested from the India’s immediate series against South Africa and Ireland, with the management hoping that the player would return fresh from his break. With the expectation that a break would do the former Indian captain some good, the team management opted for young players of IPL fame to play for India. While the youngsters did great and made their mark in the Indian team, Kohli’s return on the other hand did not turn out to be a fruitful one.\",\"After many delays, SpaceX's Dragon spacecraft finally lifted off to begin its journey to the International Space Station. The uncrewed flight, known as CRS-25 will carry with it a slew of scientific experiments which include studies into the immune system aging and recovery, mapping the composition of Earths dust and its effect on the climate, how communities of microorganisms in soil are affected by microgravity, and several others. Taking to Twitter, the National Aeronautics and Space Administration, NASA, shared a video of the CR-25 launch. Like dust in the wind, liftoff is confirmed for the SpaceX CRS-25 Dragon spacecraft resupply mission to the International space station.\"]\n",
    "text1=[\"asian exporter fear damage u japan rift mounting trade friction u japan raised fear among many asia exporting nation row could inflict far reaching economic damage businessmen official said told reuter correspondent asian capital u move japan might boost protectionist sentiment u lead curb american import product exporter said conflict would hurt long run short term tokyo loss might gain u said impose mln dlrs tariff import japanese electronics good april retaliation japan alleged failure stick pact sell semiconductor world market cost unofficial japanese estimate put impact tariff billion dlrs spokesman major electronics firm said would virtually halt export product hit new tax able business said spokesman leading japanese electronics firm matsushita electric industrial co ltd mc tariff remain place length time beyond month mean complete erosion export good subject tariff u said tom murtha stock analyst tokyo office broker james capel co taiwan businessmen official also worried aware seriousness u threat japan serf warning u said senior taiwanese trade official asked named taiwan trade trade surplus billion dlrs last year pct u surplus helped swell taiwan foreign exchange reserve billion dlrs among world largest must quickly open market remove trade barrier cut import tariff allow import u product want defuse problem possible u retaliation said paul sheen chairman textile exporter taiwan safe group senior official south korea trade promotion association said trade dispute u japan might also lead pressure south korea whose chief export similar japan last year south korea trade surplus billion dlrs u billion dlrs malaysia trade officer businessmen said tough curb japan might allow hard hit producer semiconductor third country expand sale u hong kong newspaper alleged japan selling cost semiconductor electronics manufacturer share view businessmen said short term commercial advantage would outweighed u pressure block import short term view said lawrence mill director general federation hong kong industry whole purpose prevent import one day extended source much serious hong kong disadvantage\"]\n",
    "pre_processed_text=textpreprocess(text)\n",
    "pre_processed_text\n",
    "# label=pipeline_gow.predict"
   ]
  },
  {
   "cell_type": "code",
   "execution_count": 30,
   "id": "d427386e",
   "metadata": {},
   "outputs": [
    {
     "data": {
      "text/plain": [
       "array(['trade'], dtype=object)"
      ]
     },
     "execution_count": 30,
     "metadata": {},
     "output_type": "execute_result"
    }
   ],
   "source": [
    "label=pipeline_gow.predict(text1)\n",
    "label"
   ]
  }
 ],
 "metadata": {
  "kernelspec": {
   "display_name": "Python 3 (ipykernel)",
   "language": "python",
   "name": "python3"
  },
  "language_info": {
   "codemirror_mode": {
    "name": "ipython",
    "version": 3
   },
   "file_extension": ".py",
   "mimetype": "text/x-python",
   "name": "python",
   "nbconvert_exporter": "python",
   "pygments_lexer": "ipython3",
   "version": "3.9.7"
  }
 },
 "nbformat": 4,
 "nbformat_minor": 5
}
