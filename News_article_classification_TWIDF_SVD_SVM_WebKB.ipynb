{
 "cells": [
  {
   "cell_type": "code",
   "execution_count": 1,
   "id": "029c5c4b",
   "metadata": {},
   "outputs": [],
   "source": [
    "import pandas as pd\n",
    "import nltk\n",
    "import re"
   ]
  },
  {
   "cell_type": "markdown",
   "id": "e28a9c39",
   "metadata": {},
   "source": [
    "# Loading the dataset"
   ]
  },
  {
   "cell_type": "code",
   "execution_count": 2,
   "id": "c4ece106",
   "metadata": {},
   "outputs": [
    {
     "data": {
      "text/html": [
       "<div>\n",
       "<style scoped>\n",
       "    .dataframe tbody tr th:only-of-type {\n",
       "        vertical-align: middle;\n",
       "    }\n",
       "\n",
       "    .dataframe tbody tr th {\n",
       "        vertical-align: top;\n",
       "    }\n",
       "\n",
       "    .dataframe thead th {\n",
       "        text-align: right;\n",
       "    }\n",
       "</style>\n",
       "<table border=\"1\" class=\"dataframe\">\n",
       "  <thead>\n",
       "    <tr style=\"text-align: right;\">\n",
       "      <th></th>\n",
       "      <th>category</th>\n",
       "      <th>text</th>\n",
       "    </tr>\n",
       "  </thead>\n",
       "  <tbody>\n",
       "    <tr>\n",
       "      <th>0</th>\n",
       "      <td>student</td>\n",
       "      <td>brian comput scienc depart univers wisconsin d...</td>\n",
       "    </tr>\n",
       "    <tr>\n",
       "      <th>1</th>\n",
       "      <td>student</td>\n",
       "      <td>denni swanson web page mail pop uki offic hour...</td>\n",
       "    </tr>\n",
       "    <tr>\n",
       "      <th>2</th>\n",
       "      <td>faculty</td>\n",
       "      <td>russel impagliazzo depart comput scienc engin ...</td>\n",
       "    </tr>\n",
       "    <tr>\n",
       "      <th>3</th>\n",
       "      <td>student</td>\n",
       "      <td>dave phd student depart comput scienc univers ...</td>\n",
       "    </tr>\n",
       "    <tr>\n",
       "      <th>4</th>\n",
       "      <td>project</td>\n",
       "      <td>center lifelong learn design univers colorado ...</td>\n",
       "    </tr>\n",
       "  </tbody>\n",
       "</table>\n",
       "</div>"
      ],
      "text/plain": [
       "  category                                               text\n",
       "0  student  brian comput scienc depart univers wisconsin d...\n",
       "1  student  denni swanson web page mail pop uki offic hour...\n",
       "2  faculty  russel impagliazzo depart comput scienc engin ...\n",
       "3  student  dave phd student depart comput scienc univers ...\n",
       "4  project  center lifelong learn design univers colorado ..."
      ]
     },
     "execution_count": 2,
     "metadata": {},
     "output_type": "execute_result"
    }
   ],
   "source": [
    "df_train = pd.read_csv('./datasets/webkb-train-stemmed.txt', header=None, sep='\\t', names=['category', 'text'])\n",
    "df_train = df_train.dropna()\n",
    "df_train.head()"
   ]
  },
  {
   "cell_type": "code",
   "execution_count": 3,
   "id": "bcaaecf7",
   "metadata": {},
   "outputs": [
    {
     "data": {
      "text/plain": [
       "(                                                   text\n",
       " 0     brian comput scienc depart univers wisconsin d...\n",
       " 1     denni swanson web page mail pop uki offic hour...\n",
       " 2     russel impagliazzo depart comput scienc engin ...\n",
       " 3     dave phd student depart comput scienc univers ...\n",
       " 4     center lifelong learn design univers colorado ...\n",
       " ...                                                 ...\n",
       " 2798  faster harder kill laboratori experiment softw...\n",
       " 2799  previou content steven faculti research guid p...\n",
       " 2800  sandeep graduat student studi comput scienc cl...\n",
       " 2801  web oper system uniqu mwf tai recent explos in...\n",
       " 2802  rami melhem professor dept comput scienc phone...\n",
       " \n",
       " [2785 rows x 1 columns],\n",
       " 0       student\n",
       " 1       student\n",
       " 2       faculty\n",
       " 3       student\n",
       " 4       project\n",
       "          ...   \n",
       " 2798    project\n",
       " 2799    faculty\n",
       " 2800    student\n",
       " 2801     course\n",
       " 2802    faculty\n",
       " Name: category, Length: 2785, dtype: object)"
      ]
     },
     "execution_count": 3,
     "metadata": {},
     "output_type": "execute_result"
    }
   ],
   "source": [
    "text_train = df_train.drop(['category'],axis=1)\n",
    "y_train = df_train['category']\n",
    "\n",
    "text_train, y_train"
   ]
  },
  {
   "cell_type": "code",
   "execution_count": 4,
   "id": "de627591",
   "metadata": {},
   "outputs": [
    {
     "data": {
      "text/plain": [
       "student    1085\n",
       "faculty     745\n",
       "course      620\n",
       "project     335\n",
       "Name: category, dtype: int64"
      ]
     },
     "execution_count": 4,
     "metadata": {},
     "output_type": "execute_result"
    }
   ],
   "source": [
    "y_train.value_counts()"
   ]
  },
  {
   "cell_type": "code",
   "execution_count": 5,
   "id": "15128975",
   "metadata": {},
   "outputs": [
    {
     "data": {
      "text/plain": [
       "student    540\n",
       "faculty    371\n",
       "course     306\n",
       "project    166\n",
       "Name: category, dtype: int64"
      ]
     },
     "execution_count": 5,
     "metadata": {},
     "output_type": "execute_result"
    }
   ],
   "source": [
    "df_test = pd.read_csv('datasets/webkb-test-stemmed.txt', header = None, sep='\\t', names = ['category', 'text'])\n",
    "df_test = df_test.dropna()\n",
    "text_test = df_test.drop(['category'],axis=1)\n",
    "y_test = df_test['category']\n",
    "\n",
    "y_test.value_counts()"
   ]
  },
  {
   "cell_type": "markdown",
   "id": "78c6d93c",
   "metadata": {},
   "source": [
    "# Pre-processing the data"
   ]
  },
  {
   "cell_type": "code",
   "execution_count": 6,
   "id": "e50a8b32",
   "metadata": {},
   "outputs": [],
   "source": [
    "# Since dataset is already stemmed, only stop-word removal will be applied\n",
    "def text_preprocess(articles: pd.DataFrame) -> list:\n",
    "    corpus=[]\n",
    "    for i in range(0,len(articles)):\n",
    "        review = re.sub('[^a-zA-Z]', ' ', articles['text'][i]) #replacing all charecters apart from A-Z,a-z with ' '\n",
    "        review = review.lower()\n",
    "        review = nltk.word_tokenize(review)\n",
    "\n",
    "        review = [word for word in review if not word in nltk.corpus.stopwords.words('english')]\n",
    "        review = ' '.join(review)\n",
    "        corpus.append(review)\n",
    "    return corpus"
   ]
  },
  {
   "cell_type": "code",
   "execution_count": 7,
   "id": "fc0bc5a6",
   "metadata": {},
   "outputs": [
    {
     "data": {
      "text/html": [
       "<div>\n",
       "<style scoped>\n",
       "    .dataframe tbody tr th:only-of-type {\n",
       "        vertical-align: middle;\n",
       "    }\n",
       "\n",
       "    .dataframe tbody tr th {\n",
       "        vertical-align: top;\n",
       "    }\n",
       "\n",
       "    .dataframe thead th {\n",
       "        text-align: right;\n",
       "    }\n",
       "</style>\n",
       "<table border=\"1\" class=\"dataframe\">\n",
       "  <thead>\n",
       "    <tr style=\"text-align: right;\">\n",
       "      <th></th>\n",
       "      <th>index</th>\n",
       "      <th>text</th>\n",
       "    </tr>\n",
       "  </thead>\n",
       "  <tbody>\n",
       "    <tr>\n",
       "      <th>0</th>\n",
       "      <td>0</td>\n",
       "      <td>brian comput scienc depart univers wisconsin d...</td>\n",
       "    </tr>\n",
       "    <tr>\n",
       "      <th>1</th>\n",
       "      <td>1</td>\n",
       "      <td>denni swanson web page mail pop uki offic hour...</td>\n",
       "    </tr>\n",
       "    <tr>\n",
       "      <th>2</th>\n",
       "      <td>2</td>\n",
       "      <td>russel impagliazzo depart comput scienc engin ...</td>\n",
       "    </tr>\n",
       "    <tr>\n",
       "      <th>3</th>\n",
       "      <td>3</td>\n",
       "      <td>dave phd student depart comput scienc univers ...</td>\n",
       "    </tr>\n",
       "    <tr>\n",
       "      <th>4</th>\n",
       "      <td>4</td>\n",
       "      <td>center lifelong learn design univers colorado ...</td>\n",
       "    </tr>\n",
       "    <tr>\n",
       "      <th>...</th>\n",
       "      <td>...</td>\n",
       "      <td>...</td>\n",
       "    </tr>\n",
       "    <tr>\n",
       "      <th>2780</th>\n",
       "      <td>2798</td>\n",
       "      <td>faster harder kill laboratori experiment softw...</td>\n",
       "    </tr>\n",
       "    <tr>\n",
       "      <th>2781</th>\n",
       "      <td>2799</td>\n",
       "      <td>previou content steven faculti research guid p...</td>\n",
       "    </tr>\n",
       "    <tr>\n",
       "      <th>2782</th>\n",
       "      <td>2800</td>\n",
       "      <td>sandeep graduat student studi comput scienc cl...</td>\n",
       "    </tr>\n",
       "    <tr>\n",
       "      <th>2783</th>\n",
       "      <td>2801</td>\n",
       "      <td>web oper system uniqu mwf tai recent explos in...</td>\n",
       "    </tr>\n",
       "    <tr>\n",
       "      <th>2784</th>\n",
       "      <td>2802</td>\n",
       "      <td>rami melhem professor dept comput scienc phone...</td>\n",
       "    </tr>\n",
       "  </tbody>\n",
       "</table>\n",
       "<p>2785 rows × 2 columns</p>\n",
       "</div>"
      ],
      "text/plain": [
       "      index                                               text\n",
       "0         0  brian comput scienc depart univers wisconsin d...\n",
       "1         1  denni swanson web page mail pop uki offic hour...\n",
       "2         2  russel impagliazzo depart comput scienc engin ...\n",
       "3         3  dave phd student depart comput scienc univers ...\n",
       "4         4  center lifelong learn design univers colorado ...\n",
       "...     ...                                                ...\n",
       "2780   2798  faster harder kill laboratori experiment softw...\n",
       "2781   2799  previou content steven faculti research guid p...\n",
       "2782   2800  sandeep graduat student studi comput scienc cl...\n",
       "2783   2801  web oper system uniqu mwf tai recent explos in...\n",
       "2784   2802  rami melhem professor dept comput scienc phone...\n",
       "\n",
       "[2785 rows x 2 columns]"
      ]
     },
     "execution_count": 7,
     "metadata": {},
     "output_type": "execute_result"
    }
   ],
   "source": [
    "articles_train = text_train.copy()\n",
    "articles_train.reset_index(inplace=True)\n",
    "articles_train"
   ]
  },
  {
   "cell_type": "code",
   "execution_count": 8,
   "id": "ea42dbbb",
   "metadata": {},
   "outputs": [
    {
     "data": {
      "text/html": [
       "<div>\n",
       "<style scoped>\n",
       "    .dataframe tbody tr th:only-of-type {\n",
       "        vertical-align: middle;\n",
       "    }\n",
       "\n",
       "    .dataframe tbody tr th {\n",
       "        vertical-align: top;\n",
       "    }\n",
       "\n",
       "    .dataframe thead th {\n",
       "        text-align: right;\n",
       "    }\n",
       "</style>\n",
       "<table border=\"1\" class=\"dataframe\">\n",
       "  <thead>\n",
       "    <tr style=\"text-align: right;\">\n",
       "      <th></th>\n",
       "      <th>index</th>\n",
       "      <th>text</th>\n",
       "    </tr>\n",
       "  </thead>\n",
       "  <tbody>\n",
       "    <tr>\n",
       "      <th>0</th>\n",
       "      <td>0</td>\n",
       "      <td>eric homepag eric wei tsinghua physic fudan genet</td>\n",
       "    </tr>\n",
       "    <tr>\n",
       "      <th>1</th>\n",
       "      <td>1</td>\n",
       "      <td>comput system perform evalu model new sept ass...</td>\n",
       "    </tr>\n",
       "    <tr>\n",
       "      <th>2</th>\n",
       "      <td>2</td>\n",
       "      <td>home page comput scienc grad student ucsd work...</td>\n",
       "    </tr>\n",
       "    <tr>\n",
       "      <th>3</th>\n",
       "      <td>3</td>\n",
       "      <td>toni web page toni face thing call toni studen...</td>\n",
       "    </tr>\n",
       "    <tr>\n",
       "      <th>4</th>\n",
       "      <td>4</td>\n",
       "      <td>ec advanc comput architectur credit parallel a...</td>\n",
       "    </tr>\n",
       "    <tr>\n",
       "      <th>...</th>\n",
       "      <td>...</td>\n",
       "      <td>...</td>\n",
       "    </tr>\n",
       "    <tr>\n",
       "      <th>1378</th>\n",
       "      <td>1391</td>\n",
       "      <td>scott pictur background scott phd student coll...</td>\n",
       "    </tr>\n",
       "    <tr>\n",
       "      <th>1379</th>\n",
       "      <td>1392</td>\n",
       "      <td>advanc oper system fall marvin offic comput sc...</td>\n",
       "    </tr>\n",
       "    <tr>\n",
       "      <th>1380</th>\n",
       "      <td>1393</td>\n",
       "      <td>human robot hand group head kenneth salisburi ...</td>\n",
       "    </tr>\n",
       "    <tr>\n",
       "      <th>1381</th>\n",
       "      <td>1394</td>\n",
       "      <td>databas manag system design implement inform p...</td>\n",
       "    </tr>\n",
       "    <tr>\n",
       "      <th>1382</th>\n",
       "      <td>1395</td>\n",
       "      <td>lick home page gener info mail address lick gr...</td>\n",
       "    </tr>\n",
       "  </tbody>\n",
       "</table>\n",
       "<p>1383 rows × 2 columns</p>\n",
       "</div>"
      ],
      "text/plain": [
       "      index                                               text\n",
       "0         0  eric homepag eric wei tsinghua physic fudan genet\n",
       "1         1  comput system perform evalu model new sept ass...\n",
       "2         2  home page comput scienc grad student ucsd work...\n",
       "3         3  toni web page toni face thing call toni studen...\n",
       "4         4  ec advanc comput architectur credit parallel a...\n",
       "...     ...                                                ...\n",
       "1378   1391  scott pictur background scott phd student coll...\n",
       "1379   1392  advanc oper system fall marvin offic comput sc...\n",
       "1380   1393  human robot hand group head kenneth salisburi ...\n",
       "1381   1394  databas manag system design implement inform p...\n",
       "1382   1395  lick home page gener info mail address lick gr...\n",
       "\n",
       "[1383 rows x 2 columns]"
      ]
     },
     "execution_count": 8,
     "metadata": {},
     "output_type": "execute_result"
    }
   ],
   "source": [
    "articles_test = text_test.copy()\n",
    "articles_test.reset_index(inplace=True)\n",
    "articles_test"
   ]
  },
  {
   "cell_type": "code",
   "execution_count": 9,
   "id": "6c8e6f4b",
   "metadata": {},
   "outputs": [
    {
     "data": {
      "text/plain": [
       "'brian comput scienc depart univers wisconsin dayton street madison offic email wisc offic phone home phone advisor david wood tabl content interest schedul summer public interest profession comput architectur oper system compil high speed network distribut parallel system secur account high perform person bicycl walk hike camp travel home brew cook comput electron read schedul mondai wwt meet wednesdai meet david cow meet milwauke brian heidi wed madison comput architectur affili meet chicago base public journal articl foster perform massiv parallel comput spectral atmospher model atmospher ocean technolog byte drake foster design perform scalabl parallel commun climat model parallel comput decemb byte proceed paper foster algorithm comparison benchmark parallel spectral transform water model sixth workshop parallel process meteorolog ed world scientif singapor byte drake foster hack williamson adapt scalabl parallel comput proceed global chang symposium american meteorolog societi byte foster load balanc algorithm climat model proceed scalabl high perform comput confer ed walker ieee comput societi press byte technic report user guid technic report juli byte foster load balanc algorithm parallel commun climat model anl technic report anl mc januari byte poster present foster sutton wagner harrison kendal calcul librari gordon research confer high perform comput nation inform infrastructur juli foster sutton wagner calcul librari high perform comput chemistri workshop hilton california august earth belong man man belong earth thing connect blood unit man web life strand web chief seattl man sat ground medit life mean accept creatur acknowledg uniti univers thing true essenc civil stand bear modifi mon aug cdt'"
      ]
     },
     "execution_count": 9,
     "metadata": {},
     "output_type": "execute_result"
    }
   ],
   "source": [
    "X_train = text_preprocess(articles_train)\n",
    "X_train[0]"
   ]
  },
  {
   "cell_type": "code",
   "execution_count": 10,
   "id": "a4a53133",
   "metadata": {},
   "outputs": [
    {
     "data": {
      "text/plain": [
       "'eric homepag eric wei tsinghua physic fudan genet'"
      ]
     },
     "execution_count": 10,
     "metadata": {},
     "output_type": "execute_result"
    }
   ],
   "source": [
    "X_test = text_preprocess(articles_test)\n",
    "X_test[0]"
   ]
  },
  {
   "cell_type": "markdown",
   "id": "f2ee7ac2",
   "metadata": {},
   "source": [
    "# TW-IDF Model"
   ]
  },
  {
   "cell_type": "code",
   "execution_count": 11,
   "id": "043e2ad8",
   "metadata": {},
   "outputs": [],
   "source": [
    "from sklearn.pipeline import Pipeline\n",
    "from sklearn.pipeline import FeatureUnion\n",
    "\n",
    "from sklearn.experimental import enable_halving_search_cv\n",
    "from sklearn.model_selection import HalvingGridSearchCV\n",
    "from sklearn.model_selection import HalvingRandomSearchCV\n",
    "from pprint import pprint\n",
    "\n",
    "from gowpy.feature_extraction.gow import TwidfVectorizer\n",
    "from sklearn.svm import SVC\n",
    "from sklearn.decomposition import TruncatedSVD\n",
    "\n",
    "from sklearn.metrics import classification_report, accuracy_score, f1_score"
   ]
  },
  {
   "cell_type": "code",
   "execution_count": 12,
   "id": "927146ee",
   "metadata": {},
   "outputs": [],
   "source": [
    "from sklearn.metrics import matthews_corrcoef, make_scorer\n",
    "scorer_mcc = make_scorer(matthews_corrcoef)"
   ]
  },
  {
   "cell_type": "markdown",
   "id": "70c0c81e",
   "metadata": {},
   "source": [
    "### Hyperparameter tuning and cross-validation"
   ]
  },
  {
   "cell_type": "code",
   "execution_count": 13,
   "id": "d9aebe6b",
   "metadata": {},
   "outputs": [],
   "source": [
    "pipeline = Pipeline([\n",
    "    ('gow', TwidfVectorizer()),\n",
    "    ('svc', SVC()),\n",
    "])\n",
    "\n",
    "parameters = {\n",
    "    'gow__b': [0.0, 0.003],\n",
    "    'gow__directed': [True, False],\n",
    "    'gow__max_df': [0.8, 0.9, 1.0],\n",
    "    'gow__min_df': [0, 5, 10],\n",
    "    'gow__term_weighting': ['degree', 'pagerank'],\n",
    "    'gow__window_size': [2, 3, 4, 6],\n",
    "# \n",
    "    'svc__C': [1, 10, 100],\n",
    "    'svc__class_weight': [None, 'balanced'],\n",
    "    'svc__kernel': ['linear'],\n",
    "    'svc__probability': [True, False],\n",
    "    'svc__shrinking': [True, False],\n",
    "}"
   ]
  },
  {
   "cell_type": "code",
   "execution_count": 14,
   "id": "350dd636",
   "metadata": {
    "deletable": false,
    "editable": false,
    "run_control": {
     "frozen": true
    }
   },
   "outputs": [
    {
     "name": "stdout",
     "output_type": "stream",
     "text": [
      "Performing random search...\n",
      "pipeline: ['gow', 'svc']\n",
      "{'gow__b': [0.0, 0.003],\n",
      " 'gow__directed': [True, False],\n",
      " 'gow__max_df': [0.8, 0.9, 1.0],\n",
      " 'gow__min_df': [0, 5, 10],\n",
      " 'gow__term_weighting': ['degree', 'pagerank'],\n",
      " 'gow__window_size': [2, 3, 4, 6, 8],\n",
      " 'svc__C': [0.1, 1, 10, 100, 1000],\n",
      " 'svc__class_weight': [None, 'balanced'],\n",
      " 'svc__degree': [0, 1, 2, 3, 4, 5],\n",
      " 'svc__gamma': ['scale', 'auto'],\n",
      " 'svc__kernel': ['linear', 'rbf', 'poly', 'sigmoid'],\n",
      " 'svc__probability': [True, False],\n",
      " 'svc__shrinking': [True, False]}\n",
      "n_iterations: 4\n",
      "n_required_iterations: 4\n",
      "n_possible_iterations: 4\n",
      "min_resources_: 80\n",
      "max_resources_: 2785\n",
      "aggressive_elimination: False\n",
      "factor: 3\n",
      "----------\n",
      "iter: 0\n",
      "n_candidates: 34\n",
      "n_resources: 80\n",
      "Fitting 10 folds for each of 34 candidates, totalling 340 fits\n",
      "----------\n",
      "iter: 1\n",
      "n_candidates: 12\n",
      "n_resources: 240\n",
      "Fitting 10 folds for each of 12 candidates, totalling 120 fits\n",
      "----------\n",
      "iter: 2\n",
      "n_candidates: 4\n",
      "n_resources: 720\n",
      "Fitting 10 folds for each of 4 candidates, totalling 40 fits\n",
      "----------\n",
      "iter: 3\n",
      "n_candidates: 2\n",
      "n_resources: 2160\n",
      "Fitting 10 folds for each of 2 candidates, totalling 20 fits\n",
      "Best score: 0.862\n",
      "Best parameters set:\n",
      "\tgow__b: 0.0\n",
      "\tgow__directed: False\n",
      "\tgow__max_df: 1.0\n",
      "\tgow__min_df: 5\n",
      "\tgow__term_weighting: 'pagerank'\n",
      "\tgow__window_size: 3\n",
      "\tsvc__C: 100\n",
      "\tsvc__class_weight: None\n",
      "\tsvc__degree: 1\n",
      "\tsvc__gamma: 'auto'\n",
      "\tsvc__kernel: 'linear'\n",
      "\tsvc__probability: True\n",
      "\tsvc__shrinking: False\n"
     ]
    }
   ],
   "source": [
    "random_search = HalvingRandomSearchCV(pipeline, \n",
    "                           parameters, \n",
    "                           cv=10,\n",
    "                           scoring=scorer_mcc,\n",
    "                           n_jobs=-1, \n",
    "                           verbose=10,\n",
    "                           min_resources='smallest',\n",
    "                           factor=3)\n",
    "\n",
    "print(\"Performing random search...\")\n",
    "print(\"pipeline:\", [name for name, _ in pipeline.steps])\n",
    "pprint(parameters)\n",
    "\n",
    "random_search.fit(X_train, y_train)\n",
    "\n",
    "print(\"Best score: %0.3f\" % random_search.best_score_)\n",
    "print(\"Best parameters set:\")\n",
    "best_parameters = random_search.best_estimator_.get_params()\n",
    "for param_name in sorted(parameters.keys()):\n",
    "    print(\"\\t%s: %r\" % (param_name, best_parameters[param_name]))"
   ]
  },
  {
   "cell_type": "code",
   "execution_count": 22,
   "id": "ea011f51",
   "metadata": {
    "deletable": false,
    "editable": false,
    "run_control": {
     "frozen": true
    }
   },
   "outputs": [
    {
     "name": "stdout",
     "output_type": "stream",
     "text": [
      "Performing grid search...\n",
      "pipeline: ['gow', 'svc']\n",
      "{'gow__b': [0.0, 0.003],\n",
      " 'gow__directed': [True, False],\n",
      " 'gow__max_df': [0.8, 0.9, 1.0],\n",
      " 'gow__min_df': [0, 5, 10],\n",
      " 'gow__term_weighting': ['degree', 'pagerank'],\n",
      " 'gow__window_size': [2, 3, 4, 6],\n",
      " 'svc__C': [1, 10, 100],\n",
      " 'svc__class_weight': [None, 'balanced'],\n",
      " 'svc__kernel': ['linear'],\n",
      " 'svc__probability': [True, False],\n",
      " 'svc__shrinking': [True, False]}\n",
      "n_iterations: 5\n",
      "n_required_iterations: 9\n",
      "n_possible_iterations: 5\n",
      "min_resources_: 24\n",
      "max_resources_: 2785\n",
      "aggressive_elimination: False\n",
      "factor: 3\n",
      "----------\n",
      "iter: 0\n",
      "n_candidates: 6912\n",
      "n_resources: 24\n",
      "Fitting 3 folds for each of 6912 candidates, totalling 20736 fits\n",
      "----------\n",
      "iter: 1\n",
      "n_candidates: 2304\n",
      "n_resources: 72\n",
      "Fitting 3 folds for each of 2304 candidates, totalling 6912 fits\n",
      "----------\n",
      "iter: 2\n",
      "n_candidates: 768\n",
      "n_resources: 216\n",
      "Fitting 3 folds for each of 768 candidates, totalling 2304 fits\n",
      "----------\n",
      "iter: 3\n",
      "n_candidates: 256\n",
      "n_resources: 648\n",
      "Fitting 3 folds for each of 256 candidates, totalling 768 fits\n",
      "----------\n",
      "iter: 4\n",
      "n_candidates: 86\n",
      "n_resources: 1944\n",
      "Fitting 3 folds for each of 86 candidates, totalling 258 fits\n",
      "Best score: 0.869\n",
      "Best parameters set:\n",
      "\tgow__b: 0.0\n",
      "\tgow__directed: False\n",
      "\tgow__max_df: 1.0\n",
      "\tgow__min_df: 5\n",
      "\tgow__term_weighting: 'pagerank'\n",
      "\tgow__window_size: 2\n",
      "\tsvc__C: 100\n",
      "\tsvc__class_weight: 'balanced'\n",
      "\tsvc__kernel: 'linear'\n",
      "\tsvc__probability: False\n",
      "\tsvc__shrinking: True\n"
     ]
    }
   ],
   "source": [
    "grid_search = HalvingGridSearchCV(pipeline, \n",
    "                           parameters, \n",
    "                           cv=3,\n",
    "                           scoring=scorer_mcc,\n",
    "                           n_jobs=-1, \n",
    "                           verbose=10)\n",
    "\n",
    "print(\"Performing grid search...\")\n",
    "print(\"pipeline:\", [name for name, _ in pipeline.steps])\n",
    "pprint(parameters)\n",
    "\n",
    "grid_search.fit(X_train, y_train)\n",
    "\n",
    "print(\"Best score: %0.3f\" % grid_search.best_score_)\n",
    "print(\"Best parameters set:\")\n",
    "best_parameters = grid_search.best_estimator_.get_params()\n",
    "for param_name in sorted(parameters.keys()):\n",
    "    print(\"\\t%s: %r\" % (param_name, best_parameters[param_name]))"
   ]
  },
  {
   "cell_type": "markdown",
   "id": "2800f9e0",
   "metadata": {},
   "source": [
    "### Fitting the TW-IDF model and evaluating on test data"
   ]
  },
  {
   "cell_type": "code",
   "execution_count": 23,
   "id": "b9daa50d",
   "metadata": {
    "deletable": false,
    "editable": false,
    "run_control": {
     "frozen": true
    }
   },
   "outputs": [
    {
     "data": {
      "text/plain": [
       "(2785, 7255)"
      ]
     },
     "execution_count": 23,
     "metadata": {},
     "output_type": "execute_result"
    }
   ],
   "source": [
    "model = TwidfVectorizer(b=0.0, directed=False, max_df=1.0, min_df=0, term_weighting='pagerank', window_size=2)\n",
    "X = model.fit_transform(X_train)\n",
    "X.shape"
   ]
  },
  {
   "cell_type": "code",
   "execution_count": 14,
   "id": "bbebb2b3",
   "metadata": {},
   "outputs": [
    {
     "data": {
      "text/plain": [
       "Pipeline(steps=[('gow',\n",
       "                 TwidfVectorizer(directed=False, min_df=0,\n",
       "                                 term_weighting='pagerank',\n",
       "                                 tokenizer=<function default_tokenizer at 0x0000023FA05358B0>,\n",
       "                                 window_size=2)),\n",
       "                ('svd', TruncatedSVD(n_components=500, random_state=0)),\n",
       "                ('svc', SVC(C=1, class_weight='balanced', kernel='linear'))])"
      ]
     },
     "execution_count": 14,
     "metadata": {},
     "output_type": "execute_result"
    }
   ],
   "source": [
    "# Manually setting best parameters\n",
    "pipeline_gow = Pipeline([\n",
    "    ('gow', TwidfVectorizer(b=0.0, directed=False, max_df=1.0, min_df=0, term_weighting='pagerank', window_size=2)),\n",
    "    ('svd', TruncatedSVD(n_components=500, random_state=0)),\n",
    "    ('svc', SVC(C=1, kernel='linear', class_weight='balanced', probability=False, shrinking=True)),\n",
    "])\n",
    "\n",
    "pipeline_gow.fit(X_train, y_train)"
   ]
  },
  {
   "cell_type": "code",
   "execution_count": 15,
   "id": "b3fbb634",
   "metadata": {},
   "outputs": [
    {
     "name": "stdout",
     "output_type": "stream",
     "text": [
      "              precision    recall  f1-score   support\n",
      "\n",
      "      course       0.96      0.98      0.97       306\n",
      "     faculty       0.90      0.90      0.90       371\n",
      "     project       0.85      0.93      0.89       166\n",
      "     student       0.94      0.91      0.93       540\n",
      "\n",
      "    accuracy                           0.92      1383\n",
      "   macro avg       0.91      0.93      0.92      1383\n",
      "weighted avg       0.93      0.92      0.92      1383\n",
      "\n",
      "\n",
      "Accuracy:  0.9248011569052784\n",
      "MCC:  0.8951736248951271\n",
      "f1-micro:  0.9248011569052784\n"
     ]
    }
   ],
   "source": [
    "# Evaluation on test data\n",
    "y_pred = pipeline_gow.predict(X_test)\n",
    "\n",
    "print(classification_report(y_test, y_pred))\n",
    "print('\\nAccuracy: ', accuracy_score(y_test, y_pred))\n",
    "print('MCC: ', matthews_corrcoef(y_test, y_pred))\n",
    "print('f1-micro: ', f1_score(y_test, y_pred, average='micro'))"
   ]
  },
  {
   "cell_type": "code",
   "execution_count": null,
   "id": "f5c95eb3",
   "metadata": {},
   "outputs": [],
   "source": []
  }
 ],
 "metadata": {
  "kernelspec": {
   "display_name": "Python 3 (ipykernel)",
   "language": "python",
   "name": "python3"
  },
  "language_info": {
   "codemirror_mode": {
    "name": "ipython",
    "version": 3
   },
   "file_extension": ".py",
   "mimetype": "text/x-python",
   "name": "python",
   "nbconvert_exporter": "python",
   "pygments_lexer": "ipython3",
   "version": "3.9.7"
  }
 },
 "nbformat": 4,
 "nbformat_minor": 5
}
